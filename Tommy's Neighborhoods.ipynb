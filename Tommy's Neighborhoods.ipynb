{
    "cells": [
        {
            "cell_type": "markdown",
            "metadata": {},
            "source": "### Scraping data from wikipedia"
        },
        {
            "cell_type": "code",
            "execution_count": 18,
            "metadata": {},
            "outputs": [
                {
                    "data": {
                        "text/plain": "<title>List of postal codes of Canada: M - Wikipedia</title>"
                    },
                    "execution_count": 18,
                    "metadata": {},
                    "output_type": "execute_result"
                }
            ],
            "source": "import pandas as pd\nimport numpy as np\nfrom bs4 import BeautifulSoup\nimport requests\n\nraw= requests.get('https://en.wikipedia.org/wiki/List_of_postal_codes_of_Canada:_M').text\nbs = BeautifulSoup(raw,'xml')\nbs.title"
        },
        {
            "cell_type": "markdown",
            "metadata": {},
            "source": "### Creating dataframe"
        },
        {
            "cell_type": "code",
            "execution_count": 10,
            "metadata": {},
            "outputs": [],
            "source": "table = bs.find('table')\nPostalCode = []\nBorough = []\nNeighborhood = []\n\nfor tr_cell in table.find_all('tr'):\n    counter = 1\n    PostalCode_var = -1\n    Borough_var = -1\n    Neighborhood_var = -1\n    \n    for td_cell in tr_cell.find_all('td'):\n        if counter == 1: \n            PostalCode_var = td_cell.text\n        if counter == 2: \n            Borough_var = td_cell.text\n            tag_a_Borough = td_cell.find('a')\n        if counter == 3: \n            Neighborhood_var = str(td_cell.text).strip()\n            tag_a_Neighborhood = td_cell.find('a')\n        counter +=1\n        if (PostalCode_var == 'Not assigned' or Borough_var == 'Not assigned' or Neighborhood_var == 'Not assigned'):\n            continue\n    try:\n        if ((tag_a_Borough is None) or (tag_a_Neighborhood is None)):\n            continue     \n    except:\n        pass\n    if(PostalCode_var == -1 or Borough_var == -1 or Neighborhood_var == -1):\n        continue  \n        \n    PostalCode.append(PostalCode_var)\n    Borough.append(Borough_var)\n    Neighborhood.append(Neighborhood_var)"
        },
        {
            "cell_type": "code",
            "execution_count": 12,
            "metadata": {},
            "outputs": [
                {
                    "name": "stdout",
                    "output_type": "stream",
                    "text": "78\n"
                }
            ],
            "source": "uni_post = set(PostalCode)\n#Number of unique postalcodes\nprint(len(uni_post))\nPostalCode_u      = []\nBorough_u       = []\nNeighborhood_u = []\n\n\nfor post in uni_post:\n    p_var = ''; b_var = ''; n_var = ''; \n    for post_idx, post_element in enumerate(PostalCode):\n        if post == post_element:\n            p_var = post_element;\n            b_var = Borough[post_idx]\n            if n_var == '': \n                n_var = Neighborhood[post_idx]\n            else:\n                n_var = n_var + ', ' + Neighborhood[post_idx]\n    PostalCode_u.append(p_var)\n    Borough_u.append(b_var)\n    Neighborhood_u.append(n_var)"
        },
        {
            "cell_type": "code",
            "execution_count": 13,
            "metadata": {},
            "outputs": [
                {
                    "data": {
                        "text/html": "<div>\n<style scoped>\n    .dataframe tbody tr th:only-of-type {\n        vertical-align: middle;\n    }\n\n    .dataframe tbody tr th {\n        vertical-align: top;\n    }\n\n    .dataframe thead th {\n        text-align: right;\n    }\n</style>\n<table border=\"1\" class=\"dataframe\">\n  <thead>\n    <tr style=\"text-align: right;\">\n      <th></th>\n      <th>PostalCode</th>\n      <th>Borough</th>\n      <th>Neighborhood</th>\n    </tr>\n  </thead>\n  <tbody>\n    <tr>\n      <th>0</th>\n      <td>M1V</td>\n      <td>Scarborough</td>\n      <td>Agincourt North, Milliken</td>\n    </tr>\n    <tr>\n      <th>1</th>\n      <td>M3L</td>\n      <td>North York</td>\n      <td>Downsview West</td>\n    </tr>\n    <tr>\n      <th>2</th>\n      <td>M6R</td>\n      <td>West Toronto</td>\n      <td>Parkdale, Roncesvalles</td>\n    </tr>\n    <tr>\n      <th>3</th>\n      <td>M5M</td>\n      <td>North York</td>\n      <td>Bedford Park</td>\n    </tr>\n    <tr>\n      <th>4</th>\n      <td>M5T</td>\n      <td>Downtown Toronto</td>\n      <td>Chinatown, Grange Park, Kensington Market</td>\n    </tr>\n  </tbody>\n</table>\n</div>",
                        "text/plain": "  PostalCode           Borough                               Neighborhood\n0        M1V       Scarborough                  Agincourt North, Milliken\n1        M3L        North York                             Downsview West\n2        M6R      West Toronto                     Parkdale, Roncesvalles\n3        M5M        North York                               Bedford Park\n4        M5T  Downtown Toronto  Chinatown, Grange Park, Kensington Market"
                    },
                    "execution_count": 13,
                    "metadata": {},
                    "output_type": "execute_result"
                }
            ],
            "source": "toronto = {'PostalCode':PostalCode_u, 'Borough':Borough_u, 'Neighborhood':Neighborhood_u}\ndf = pd.DataFrame.from_dict(toronto)\ndf.to_csv('Toronto.csv')\ndf.head()"
        },
        {
            "cell_type": "markdown",
            "metadata": {},
            "source": "### Use the .shape method to print the number of rows of your dataframe"
        },
        {
            "cell_type": "code",
            "execution_count": 14,
            "metadata": {},
            "outputs": [
                {
                    "data": {
                        "text/plain": "(78, 3)"
                    },
                    "execution_count": 14,
                    "metadata": {},
                    "output_type": "execute_result"
                }
            ],
            "source": "df.shape"
        },
        {
            "cell_type": "markdown",
            "metadata": {},
            "source": "### Scraping geospatial data"
        },
        {
            "cell_type": "code",
            "execution_count": 19,
            "metadata": {},
            "outputs": [
                {
                    "data": {
                        "text/html": "<div>\n<style scoped>\n    .dataframe tbody tr th:only-of-type {\n        vertical-align: middle;\n    }\n\n    .dataframe tbody tr th {\n        vertical-align: top;\n    }\n\n    .dataframe thead th {\n        text-align: right;\n    }\n</style>\n<table border=\"1\" class=\"dataframe\">\n  <thead>\n    <tr style=\"text-align: right;\">\n      <th></th>\n      <th>PostalCode</th>\n      <th>Latitude</th>\n      <th>Longitude</th>\n    </tr>\n  </thead>\n  <tbody>\n    <tr>\n      <th>0</th>\n      <td>M1B</td>\n      <td>43.806686</td>\n      <td>-79.194353</td>\n    </tr>\n    <tr>\n      <th>1</th>\n      <td>M1C</td>\n      <td>43.784535</td>\n      <td>-79.160497</td>\n    </tr>\n    <tr>\n      <th>2</th>\n      <td>M1E</td>\n      <td>43.763573</td>\n      <td>-79.188711</td>\n    </tr>\n    <tr>\n      <th>3</th>\n      <td>M1G</td>\n      <td>43.770992</td>\n      <td>-79.216917</td>\n    </tr>\n    <tr>\n      <th>4</th>\n      <td>M1H</td>\n      <td>43.773136</td>\n      <td>-79.239476</td>\n    </tr>\n  </tbody>\n</table>\n</div>",
                        "text/plain": "  PostalCode   Latitude  Longitude\n0        M1B  43.806686 -79.194353\n1        M1C  43.784535 -79.160497\n2        M1E  43.763573 -79.188711\n3        M1G  43.770992 -79.216917\n4        M1H  43.773136 -79.239476"
                    },
                    "execution_count": 19,
                    "metadata": {},
                    "output_type": "execute_result"
                }
            ],
            "source": "coordinates = pd.read_csv(\"https://cocl.us/Geospatial_data\")\ncoordinates.rename(columns={\"Postal Code\": \"PostalCode\"}, inplace=True)"
        },
        {
            "cell_type": "code",
            "execution_count": 20,
            "metadata": {},
            "outputs": [],
            "source": "df1 = df.merge(coordinates, on=\"PostalCode\", how=\"left\")"
        },
        {
            "cell_type": "code",
            "execution_count": null,
            "metadata": {},
            "outputs": [],
            "source": ""
        }
    ],
    "metadata": {
        "kernelspec": {
            "display_name": "Python 3.6",
            "language": "python",
            "name": "python3"
        },
        "language_info": {
            "codemirror_mode": {
                "name": "ipython",
                "version": 3
            },
            "file_extension": ".py",
            "mimetype": "text/x-python",
            "name": "python",
            "nbconvert_exporter": "python",
            "pygments_lexer": "ipython3",
            "version": "3.6.9"
        }
    },
    "nbformat": 4,
    "nbformat_minor": 1
}